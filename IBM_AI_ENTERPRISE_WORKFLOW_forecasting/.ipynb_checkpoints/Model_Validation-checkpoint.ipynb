{
 "cells": [
  {
   "cell_type": "code",
   "execution_count": 48,
   "metadata": {},
   "outputs": [],
   "source": [
    "#!/usr/bin/python           \n",
    "\"\"\" \n",
    "In this notebook, the functions for training and predicting with Prophet are defined.\n",
    "\"\"\"\n",
    "\n",
    "import os\n",
    "import pandas as pd\n",
    "from fbprophet import Prophet\n",
    "from cslib import fetch_ts\n",
    "import re\n",
    "from logger import update_predict_log, update_train_log\n",
    "import time\n",
    "import numpy as np\n",
    "import random\n",
    "\n",
    "from sklearn.metrics import mean_squared_error, mean_absolute_error"
   ]
  },
  {
   "cell_type": "code",
   "execution_count": 2,
   "metadata": {},
   "outputs": [],
   "source": [
    "MODEL_VERSION = 0.1\n",
    "MODEL_VERSION_NOTE = \"Prophet POC\""
   ]
  },
  {
   "cell_type": "markdown",
   "metadata": {},
   "source": [
    "### HyperParameter Tuning using ParameterGrid"
   ]
  },
  {
   "cell_type": "code",
   "execution_count": 69,
   "metadata": {},
   "outputs": [
    {
     "name": "stdout",
     "output_type": "stream",
     "text": [
      "Total Possible Models 2\n"
     ]
    }
   ],
   "source": [
    "#### see this : https://www.kaggle.com/manovirat/timeseries-using-prophet-hyperparameter-tuning\n",
    "\n",
    "    \n",
    "from sklearn.model_selection import ParameterGrid\n",
    "params_grid = {'seasonality_mode':('multiplicative','additive')\n",
    "#                ,'changepoint_prior_scale':[0.1,0.3,0.5]\n",
    "#           'n_changepoints' : [100,200]\n",
    "              }\n",
    "grid = ParameterGrid(params_grid)\n",
    "cnt = 0\n",
    "for p in grid:\n",
    "    cnt = cnt+1\n",
    "\n",
    "print('Total Possible Models',cnt)"
   ]
  },
  {
   "cell_type": "markdown",
   "metadata": {},
   "source": [
    "### Prophet Model Tuning"
   ]
  },
  {
   "cell_type": "code",
   "execution_count": 70,
   "metadata": {},
   "outputs": [
    {
     "name": "stdout",
     "output_type": "stream",
     "text": [
      "2017-11-01 2019-06-30\n",
      "(424, 2) (183, 2)\n"
     ]
    }
   ],
   "source": [
    "country = \"spain\"\n",
    "filename=\"./data/cs_train/data/ts-\"+country+\".csv\"\n",
    "df = pd.read_csv(filename)\n",
    "print( df.date.min(),df.date.max())    \n",
    "\n",
    "df.rename( columns={'date':'ds', 'revenue':'y'}, inplace=True)\n",
    "X = df[['ds','y']].copy()\n",
    "size = int(len(X) * 0.70)\n",
    "train, test = X[0:size], X[size:]\n",
    "\n",
    "# train.rename( columns={'date':'ds', 'revenue':'y'}, inplace=True)\n",
    "# test.rename( columns={'date':'ds', 'revenue':'y'}, inplace=True)\n",
    "\n",
    "print(train.shape, test.shape)"
   ]
  },
  {
   "cell_type": "code",
   "execution_count": 75,
   "metadata": {},
   "outputs": [
    {
     "name": "stdout",
     "output_type": "stream",
     "text": [
      "{'seasonality_mode': 'multiplicative'}\n"
     ]
    },
    {
     "name": "stderr",
     "output_type": "stream",
     "text": [
      "C:\\Users\\crislanio_macedo\\AppData\\Local\\Continuum\\anaconda3\\envs\\deeplearning\\lib\\site-packages\\pystan\\misc.py:399: FutureWarning:\n",
      "\n",
      "Conversion of the second argument of issubdtype from `float` to `np.floating` is deprecated. In future, it will be treated as `np.float64 == np.dtype(float).type`.\n",
      "\n"
     ]
    },
    {
     "name": "stdout",
     "output_type": "stream",
     "text": [
      "Mean Square Error(MSE)------------------------------------ 101058.98727235243\n",
      "{'seasonality_mode': 'additive'}\n"
     ]
    },
    {
     "name": "stderr",
     "output_type": "stream",
     "text": [
      "C:\\Users\\crislanio_macedo\\AppData\\Local\\Continuum\\anaconda3\\envs\\deeplearning\\lib\\site-packages\\pystan\\misc.py:399: FutureWarning:\n",
      "\n",
      "Conversion of the second argument of issubdtype from `float` to `np.floating` is deprecated. In future, it will be treated as `np.float64 == np.dtype(float).type`.\n",
      "\n"
     ]
    },
    {
     "name": "stdout",
     "output_type": "stream",
     "text": [
      "Mean Square Error(MSE)------------------------------------ 95859.11271378021\n"
     ]
    }
   ],
   "source": [
    "  \n",
    "strt =   df.ds.min()\n",
    "end  =   df.iloc[size]['ds']\n",
    "end_  =   df.iloc[train.shape[0]+60]['ds']   # test cv data\n",
    "\n",
    "model_parameters = pd.DataFrame(columns = ['MSE','Parameters'])\n",
    "for p in grid:\n",
    "    test_ = pd.DataFrame()\n",
    "    print(p)\n",
    "    random.seed(0)\n",
    "    train_model =Prophet(\n",
    "#         changepoint_prior_scale = p['changepoint_prior_scale'],\n",
    "#                          n_changepoints = p['n_changepoints'],\n",
    "                         seasonality_mode = p['seasonality_mode'],\n",
    "                         weekly_seasonality=True,\n",
    "                         daily_seasonality = True,\n",
    "                         yearly_seasonality = True,\n",
    "                         interval_width=0.95)\n",
    "    train_model.fit(train)\n",
    "    train_forecast = train_model.make_future_dataframe(periods=60, freq='D',include_history = False)\n",
    "    train_forecast = train_model.predict(train_forecast)\n",
    "    \n",
    "    test_=train_forecast[['ds','yhat']]\n",
    "    Actual = df[(df['ds']> train.ds.max()) & (df['ds']< end_)]\n",
    "    \n",
    "    \n",
    "    MSE = mean_squared_error(Actual['y'],abs(test_['yhat']))\n",
    "    print('Mean Square Error(MSE)------------------------------------',MSE)\n",
    "    model_parameters = model_parameters.append({'MSE':MSE,'Parameters':p},ignore_index=True)    "
   ]
  },
  {
   "cell_type": "code",
   "execution_count": 76,
   "metadata": {},
   "outputs": [
    {
     "data": {
      "text/html": [
       "<div>\n",
       "<style scoped>\n",
       "    .dataframe tbody tr th:only-of-type {\n",
       "        vertical-align: middle;\n",
       "    }\n",
       "\n",
       "    .dataframe tbody tr th {\n",
       "        vertical-align: top;\n",
       "    }\n",
       "\n",
       "    .dataframe thead th {\n",
       "        text-align: right;\n",
       "    }\n",
       "</style>\n",
       "<table border=\"1\" class=\"dataframe\">\n",
       "  <thead>\n",
       "    <tr style=\"text-align: right;\">\n",
       "      <th></th>\n",
       "      <th>MSE</th>\n",
       "      <th>Parameters</th>\n",
       "    </tr>\n",
       "  </thead>\n",
       "  <tbody>\n",
       "    <tr>\n",
       "      <th>0</th>\n",
       "      <td>95859.112714</td>\n",
       "      <td>{'seasonality_mode': 'additive'}</td>\n",
       "    </tr>\n",
       "    <tr>\n",
       "      <th>1</th>\n",
       "      <td>101058.987272</td>\n",
       "      <td>{'seasonality_mode': 'multiplicative'}</td>\n",
       "    </tr>\n",
       "  </tbody>\n",
       "</table>\n",
       "</div>"
      ],
      "text/plain": [
       "             MSE                              Parameters\n",
       "0   95859.112714        {'seasonality_mode': 'additive'}\n",
       "1  101058.987272  {'seasonality_mode': 'multiplicative'}"
      ]
     },
     "execution_count": 76,
     "metadata": {},
     "output_type": "execute_result"
    }
   ],
   "source": [
    "parameters = model_parameters.sort_values(by=['MSE'])\n",
    "parameters = parameters.reset_index(drop=True)\n",
    "parameters.head()"
   ]
  },
  {
   "cell_type": "code",
   "execution_count": 114,
   "metadata": {},
   "outputs": [
    {
     "data": {
      "text/plain": [
       "{'seasonality_mode': 'additive'}"
      ]
     },
     "execution_count": 114,
     "metadata": {},
     "output_type": "execute_result"
    }
   ],
   "source": [
    "# parameters['Parameters'][0]['seasonality_mode']\n",
    "parameters['Parameters'][0]\n",
    "          "
   ]
  },
  {
   "cell_type": "code",
   "execution_count": 112,
   "metadata": {},
   "outputs": [],
   "source": [
    "def model_train():\n",
    "    ## start timer for runtime\n",
    "    time_start = time.time()\n",
    "    data_dir = os.path.join(\"data\",\"cs_train\",\"data\")\n",
    "    ts_data = fetch_ts(data_dir)\n",
    "\n",
    "    for country,df in ts_data.items():\n",
    "        m =Prophet(\n",
    "#         changepoint_prior_scale = p['changepoint_prior_scale'],\n",
    "#                          n_changepoints = p['n_changepoints'],\n",
    "        seasonality_mode = parameters['Parameters'][0]['seasonality_mode'],\n",
    "        weekly_seasonality=True, daily_seasonality = True, yearly_seasonality = True,interval_width=0.95)\n",
    "            \n",
    "        df2=df[[\"date\",\"revenue\"]]\n",
    "        df2.columns = ['ds', 'y']\n",
    "        m.fit(df2)\n",
    "        future = m.make_future_dataframe(periods=120) # predict future, 120 days\n",
    "        forecast = m.predict(future)\n",
    "        forecast['country'] = country\n",
    "        \n",
    "        forecast[['ds', 'yhat', 'yhat_lower', 'yhat_upper']].tail()\n",
    "#         filename=\"data/forecasts/forecast_\" + country+\".csv\"\n",
    "#         forecast.to_csv(filename)\n",
    "    \n",
    "    ## update the log file\n",
    "    m, s = divmod(time.time()-time_start, 60)\n",
    "    h, m = divmod(m, 60)\n",
    "    runtime = \"%03d:%02d:%02d\"%(h, m, s)\n",
    "    test=False\n",
    "    update_train_log(forecast.shape, runtime, MODEL_VERSION, MODEL_VERSION_NOTE, test)\n",
    "\n",
    "    return True\n"
   ]
  },
  {
   "cell_type": "code",
   "execution_count": 81,
   "metadata": {},
   "outputs": [],
   "source": [
    "def model_predict(country, year, month, day):\n",
    "    time_start = time.time()\n",
    "    data_dir = os.path.join(\"data\",\"cs_train\",\"data\")\n",
    "    ts_data = fetch_ts(data_dir)\n",
    "    countries=[]\n",
    "    for c,df in ts_data.items():\n",
    "        countries.append(c)\n",
    "\n",
    "    if(country not in countries):\n",
    "        text=\"Could not find country called \"+ country+\".csv\"\n",
    "        return(text)\n",
    "    else:\n",
    "        filename=\"./data/forecasts/forecast_\"+country+\".csv\"\n",
    "        forecasts = pd.read_csv(filename)\n",
    "        date_str=year + \"-\" + month + \"-\" + day\n",
    "        row=forecasts.loc[forecasts['ds'] == date_str]\n",
    "        return row\n"
   ]
  },
  {
   "cell_type": "code",
   "execution_count": 82,
   "metadata": {},
   "outputs": [
    {
     "name": "stdout",
     "output_type": "stream",
     "text": [
      "... loading ts data from files\n"
     ]
    },
    {
     "data": {
      "text/html": [
       "<div>\n",
       "<style scoped>\n",
       "    .dataframe tbody tr th:only-of-type {\n",
       "        vertical-align: middle;\n",
       "    }\n",
       "\n",
       "    .dataframe tbody tr th {\n",
       "        vertical-align: top;\n",
       "    }\n",
       "\n",
       "    .dataframe thead th {\n",
       "        text-align: right;\n",
       "    }\n",
       "</style>\n",
       "<table border=\"1\" class=\"dataframe\">\n",
       "  <thead>\n",
       "    <tr style=\"text-align: right;\">\n",
       "      <th></th>\n",
       "      <th>Unnamed: 0</th>\n",
       "      <th>ds</th>\n",
       "      <th>trend</th>\n",
       "      <th>yhat_lower</th>\n",
       "      <th>yhat_upper</th>\n",
       "      <th>trend_lower</th>\n",
       "      <th>trend_upper</th>\n",
       "      <th>additive_terms</th>\n",
       "      <th>additive_terms_lower</th>\n",
       "      <th>additive_terms_upper</th>\n",
       "      <th>weekly</th>\n",
       "      <th>weekly_lower</th>\n",
       "      <th>weekly_upper</th>\n",
       "      <th>multiplicative_terms</th>\n",
       "      <th>multiplicative_terms_lower</th>\n",
       "      <th>multiplicative_terms_upper</th>\n",
       "      <th>yhat</th>\n",
       "      <th>country</th>\n",
       "    </tr>\n",
       "  </thead>\n",
       "  <tbody>\n",
       "    <tr>\n",
       "      <th>61</th>\n",
       "      <td>61</td>\n",
       "      <td>2018-01-01</td>\n",
       "      <td>26.102484</td>\n",
       "      <td>-139.309748</td>\n",
       "      <td>196.317002</td>\n",
       "      <td>26.102484</td>\n",
       "      <td>26.102484</td>\n",
       "      <td>7.490659</td>\n",
       "      <td>7.490659</td>\n",
       "      <td>7.490659</td>\n",
       "      <td>7.490659</td>\n",
       "      <td>7.490659</td>\n",
       "      <td>7.490659</td>\n",
       "      <td>0.0</td>\n",
       "      <td>0.0</td>\n",
       "      <td>0.0</td>\n",
       "      <td>33.593143</td>\n",
       "      <td>spain</td>\n",
       "    </tr>\n",
       "  </tbody>\n",
       "</table>\n",
       "</div>"
      ],
      "text/plain": [
       "    Unnamed: 0          ds      trend  yhat_lower  yhat_upper  trend_lower  \\\n",
       "61          61  2018-01-01  26.102484 -139.309748  196.317002    26.102484   \n",
       "\n",
       "    trend_upper  additive_terms  additive_terms_lower  additive_terms_upper  \\\n",
       "61    26.102484        7.490659              7.490659              7.490659   \n",
       "\n",
       "      weekly  weekly_lower  weekly_upper  multiplicative_terms  \\\n",
       "61  7.490659      7.490659      7.490659                   0.0   \n",
       "\n",
       "    multiplicative_terms_lower  multiplicative_terms_upper       yhat country  \n",
       "61                         0.0                         0.0  33.593143   spain  "
      ]
     },
     "execution_count": 82,
     "metadata": {},
     "output_type": "execute_result"
    }
   ],
   "source": [
    "model_predict(\"spain\",\"2018\",\"01\",\"01\")          # show forecast row for a country and date\n"
   ]
  },
  {
   "cell_type": "code",
   "execution_count": 113,
   "metadata": {},
   "outputs": [
    {
     "name": "stdout",
     "output_type": "stream",
     "text": [
      "... loading ts data from files\n"
     ]
    },
    {
     "name": "stderr",
     "output_type": "stream",
     "text": [
      "C:\\Users\\crislanio_macedo\\AppData\\Local\\Continuum\\anaconda3\\envs\\deeplearning\\lib\\site-packages\\pystan\\misc.py:399: FutureWarning:\n",
      "\n",
      "Conversion of the second argument of issubdtype from `float` to `np.floating` is deprecated. In future, it will be treated as `np.float64 == np.dtype(float).type`.\n",
      "\n"
     ]
    },
    {
     "data": {
      "text/plain": [
       "True"
      ]
     },
     "execution_count": 113,
     "metadata": {},
     "output_type": "execute_result"
    }
   ],
   "source": [
    "model_train()"
   ]
  },
  {
   "cell_type": "code",
   "execution_count": null,
   "metadata": {},
   "outputs": [],
   "source": []
  },
  {
   "cell_type": "markdown",
   "metadata": {},
   "source": [
    "## Enf notebook"
   ]
  }
 ],
 "metadata": {
  "kernelspec": {
   "display_name": "Python 3",
   "language": "python",
   "name": "python3"
  },
  "language_info": {
   "codemirror_mode": {
    "name": "ipython",
    "version": 3
   },
   "file_extension": ".py",
   "mimetype": "text/x-python",
   "name": "python",
   "nbconvert_exporter": "python",
   "pygments_lexer": "ipython3",
   "version": "3.7.1"
  }
 },
 "nbformat": 4,
 "nbformat_minor": 2
}
