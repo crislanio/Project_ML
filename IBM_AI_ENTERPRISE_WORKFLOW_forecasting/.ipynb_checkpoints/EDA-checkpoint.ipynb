{
 "cells": [
  {
   "cell_type": "markdown",
   "metadata": {},
   "source": [
    "# Exploratory Data Analysis"
   ]
  },
  {
   "cell_type": "markdown",
   "metadata": {},
   "source": [
    "# Imports"
   ]
  },
  {
   "cell_type": "code",
   "execution_count": 1,
   "metadata": {},
   "outputs": [],
   "source": [
    "from cslib import fetch_data, convert_to_ts\n",
    "import matplotlib.pyplot as plt"
   ]
  },
  {
   "cell_type": "code",
   "execution_count": 2,
   "metadata": {},
   "outputs": [],
   "source": [
    "import pandas as pd\n",
    "\n",
    "import seaborn as sns"
   ]
  },
  {
   "cell_type": "markdown",
   "metadata": {},
   "source": [
    "## Load and transform data"
   ]
  },
  {
   "cell_type": "code",
   "execution_count": 3,
   "metadata": {},
   "outputs": [
    {
     "data": {
      "text/html": [
       "<div>\n",
       "<style scoped>\n",
       "    .dataframe tbody tr th:only-of-type {\n",
       "        vertical-align: middle;\n",
       "    }\n",
       "\n",
       "    .dataframe tbody tr th {\n",
       "        vertical-align: top;\n",
       "    }\n",
       "\n",
       "    .dataframe thead th {\n",
       "        text-align: right;\n",
       "    }\n",
       "</style>\n",
       "<table border=\"1\" class=\"dataframe\">\n",
       "  <thead>\n",
       "    <tr style=\"text-align: right;\">\n",
       "      <th></th>\n",
       "      <th>country</th>\n",
       "      <th>customer_id</th>\n",
       "      <th>day</th>\n",
       "      <th>invoice</th>\n",
       "      <th>month</th>\n",
       "      <th>price</th>\n",
       "      <th>stream_id</th>\n",
       "      <th>times_viewed</th>\n",
       "      <th>year</th>\n",
       "      <th>invoice_date</th>\n",
       "    </tr>\n",
       "  </thead>\n",
       "  <tbody>\n",
       "    <tr>\n",
       "      <th>0</th>\n",
       "      <td>United Kingdom</td>\n",
       "      <td>13085.0</td>\n",
       "      <td>28</td>\n",
       "      <td>489434</td>\n",
       "      <td>11</td>\n",
       "      <td>6.95</td>\n",
       "      <td>85048</td>\n",
       "      <td>12</td>\n",
       "      <td>2017</td>\n",
       "      <td>2017-11-28</td>\n",
       "    </tr>\n",
       "    <tr>\n",
       "      <th>1</th>\n",
       "      <td>United Kingdom</td>\n",
       "      <td>13085.0</td>\n",
       "      <td>28</td>\n",
       "      <td>489434</td>\n",
       "      <td>11</td>\n",
       "      <td>6.75</td>\n",
       "      <td>79323W</td>\n",
       "      <td>12</td>\n",
       "      <td>2017</td>\n",
       "      <td>2017-11-28</td>\n",
       "    </tr>\n",
       "    <tr>\n",
       "      <th>2</th>\n",
       "      <td>United Kingdom</td>\n",
       "      <td>13085.0</td>\n",
       "      <td>28</td>\n",
       "      <td>489434</td>\n",
       "      <td>11</td>\n",
       "      <td>2.10</td>\n",
       "      <td>22041</td>\n",
       "      <td>21</td>\n",
       "      <td>2017</td>\n",
       "      <td>2017-11-28</td>\n",
       "    </tr>\n",
       "    <tr>\n",
       "      <th>3</th>\n",
       "      <td>United Kingdom</td>\n",
       "      <td>13085.0</td>\n",
       "      <td>28</td>\n",
       "      <td>489434</td>\n",
       "      <td>11</td>\n",
       "      <td>1.25</td>\n",
       "      <td>21232</td>\n",
       "      <td>5</td>\n",
       "      <td>2017</td>\n",
       "      <td>2017-11-28</td>\n",
       "    </tr>\n",
       "    <tr>\n",
       "      <th>4</th>\n",
       "      <td>United Kingdom</td>\n",
       "      <td>13085.0</td>\n",
       "      <td>28</td>\n",
       "      <td>489434</td>\n",
       "      <td>11</td>\n",
       "      <td>1.65</td>\n",
       "      <td>22064</td>\n",
       "      <td>17</td>\n",
       "      <td>2017</td>\n",
       "      <td>2017-11-28</td>\n",
       "    </tr>\n",
       "  </tbody>\n",
       "</table>\n",
       "</div>"
      ],
      "text/plain": [
       "          country  customer_id  day invoice  month  price stream_id  \\\n",
       "0  United Kingdom      13085.0   28  489434     11   6.95     85048   \n",
       "1  United Kingdom      13085.0   28  489434     11   6.75    79323W   \n",
       "2  United Kingdom      13085.0   28  489434     11   2.10     22041   \n",
       "3  United Kingdom      13085.0   28  489434     11   1.25     21232   \n",
       "4  United Kingdom      13085.0   28  489434     11   1.65     22064   \n",
       "\n",
       "   times_viewed  year invoice_date  \n",
       "0            12  2017   2017-11-28  \n",
       "1            12  2017   2017-11-28  \n",
       "2            21  2017   2017-11-28  \n",
       "3             5  2017   2017-11-28  \n",
       "4            17  2017   2017-11-28  "
      ]
     },
     "execution_count": 3,
     "metadata": {},
     "output_type": "execute_result"
    }
   ],
   "source": [
    "# Fetch training data\n",
    "df = fetch_data(\"cs_train\")\n",
    "df.head()"
   ]
  },
  {
   "cell_type": "code",
   "execution_count": 4,
   "metadata": {},
   "outputs": [],
   "source": [
    "# Transform training data to timeseries dataframe\n",
    "df_ts = convert_to_ts(df)\n",
    "df_ts.head()\n",
    "# Save dataframe\n",
    "df_ts.to_csv(\"data/cs_train/ts_train_data.csv\")"
   ]
  },
  {
   "cell_type": "markdown",
   "metadata": {},
   "source": [
    "## Data Analysis"
   ]
  },
  {
   "cell_type": "markdown",
   "metadata": {},
   "source": [
    "### Number of unique days and the dataset span"
   ]
  },
  {
   "cell_type": "code",
   "execution_count": 6,
   "metadata": {},
   "outputs": [
    {
     "name": "stdout",
     "output_type": "stream",
     "text": [
      "Number of unique days:  495\n",
      "The dataset spans for  606 days 00:00:00\n"
     ]
    }
   ],
   "source": [
    "print(\"Number of unique days: \", df.invoice_date.nunique())\n",
    "\n",
    "first_day=df_ts['date'].iloc[0] # first element \n",
    "last_day=df_ts['date'].iloc[-1] # last element \n",
    "total_days = (last_day - first_day)\n",
    "print(\"The dataset spans for \", total_days)\n"
   ]
  },
  {
   "cell_type": "markdown",
   "metadata": {},
   "source": [
    "### Countries by total revenue"
   ]
  },
  {
   "cell_type": "code",
   "execution_count": 7,
   "metadata": {},
   "outputs": [
    {
     "data": {
      "text/html": [
       "<div>\n",
       "<style scoped>\n",
       "    .dataframe tbody tr th:only-of-type {\n",
       "        vertical-align: middle;\n",
       "    }\n",
       "\n",
       "    .dataframe tbody tr th {\n",
       "        vertical-align: top;\n",
       "    }\n",
       "\n",
       "    .dataframe thead th {\n",
       "        text-align: right;\n",
       "    }\n",
       "</style>\n",
       "<table border=\"1\" class=\"dataframe\">\n",
       "  <thead>\n",
       "    <tr style=\"text-align: right;\">\n",
       "      <th></th>\n",
       "      <th>customer_id</th>\n",
       "      <th>day</th>\n",
       "      <th>month</th>\n",
       "      <th>price</th>\n",
       "      <th>times_viewed</th>\n",
       "      <th>year</th>\n",
       "    </tr>\n",
       "    <tr>\n",
       "      <th>country</th>\n",
       "      <th></th>\n",
       "      <th></th>\n",
       "      <th></th>\n",
       "      <th></th>\n",
       "      <th></th>\n",
       "      <th></th>\n",
       "    </tr>\n",
       "  </thead>\n",
       "  <tbody>\n",
       "    <tr>\n",
       "      <th>United Kingdom</th>\n",
       "      <td>8.770331e+09</td>\n",
       "      <td>11294245</td>\n",
       "      <td>4967307</td>\n",
       "      <td>3.521514e+06</td>\n",
       "      <td>3725703</td>\n",
       "      <td>1516160498</td>\n",
       "    </tr>\n",
       "    <tr>\n",
       "      <th>EIRE</th>\n",
       "      <td>1.781244e+08</td>\n",
       "      <td>214425</td>\n",
       "      <td>89337</td>\n",
       "      <td>1.070692e+05</td>\n",
       "      <td>111636</td>\n",
       "      <td>27401294</td>\n",
       "    </tr>\n",
       "    <tr>\n",
       "      <th>Germany</th>\n",
       "      <td>1.683921e+08</td>\n",
       "      <td>203006</td>\n",
       "      <td>81741</td>\n",
       "      <td>4.927182e+04</td>\n",
       "      <td>112618</td>\n",
       "      <td>26916270</td>\n",
       "    </tr>\n",
       "  </tbody>\n",
       "</table>\n",
       "</div>"
      ],
      "text/plain": [
       "                 customer_id       day    month         price  times_viewed  \\\n",
       "country                                                                       \n",
       "United Kingdom  8.770331e+09  11294245  4967307  3.521514e+06       3725703   \n",
       "EIRE            1.781244e+08    214425    89337  1.070692e+05        111636   \n",
       "Germany         1.683921e+08    203006    81741  4.927182e+04        112618   \n",
       "\n",
       "                      year  \n",
       "country                     \n",
       "United Kingdom  1516160498  \n",
       "EIRE              27401294  \n",
       "Germany           26916270  "
      ]
     },
     "execution_count": 7,
     "metadata": {},
     "output_type": "execute_result"
    }
   ],
   "source": [
    "df_grouped = df.groupby(\"country\").sum()\n",
    "df_grouped.sort_values('price', ascending=False).head(3)"
   ]
  },
  {
   "cell_type": "markdown",
   "metadata": {},
   "source": [
    "### Number of missed values by feature"
   ]
  },
  {
   "cell_type": "code",
   "execution_count": 8,
   "metadata": {},
   "outputs": [
    {
     "data": {
      "text/plain": [
       "country              0\n",
       "customer_id     189762\n",
       "day                  0\n",
       "invoice              0\n",
       "month                0\n",
       "price                0\n",
       "stream_id            0\n",
       "times_viewed         0\n",
       "year                 0\n",
       "invoice_date         0\n",
       "dtype: int64"
      ]
     },
     "execution_count": 8,
     "metadata": {},
     "output_type": "execute_result"
    }
   ],
   "source": [
    "df.isna().sum()"
   ]
  },
  {
   "cell_type": "markdown",
   "metadata": {},
   "source": [
    "### Revenue time series for all countries"
   ]
  },
  {
   "cell_type": "code",
   "execution_count": 9,
   "metadata": {},
   "outputs": [
    {
     "data": {
      "image/png": "[encoded data removed]",
      "text/plain": [
       "<Figure size 1152x432 with 1 Axes>"
      ]
     },
     "metadata": {
      "needs_background": "light"
     },
     "output_type": "display_data"
    }
   ],
   "source": [
    "plt.figure(figsize=(16,6))\n",
    "df_features = df_ts.sort_index()\n",
    "plt.plot(df_ts.date, df_ts['revenue'].fillna(1), c='gray', alpha=0.4)\n",
    "plt.title('Revenue time series for all countries')\n",
    "plt.xlabel('Date Time')\n",
    "plt.show()"
   ]
  },
  {
   "cell_type": "markdown",
   "metadata": {},
   "source": [
    "## Data Analysis for validation dataset"
   ]
  },
  {
   "cell_type": "code",
   "execution_count": 10,
   "metadata": {},
   "outputs": [
    {
     "name": "stdout",
     "output_type": "stream",
     "text": [
      "          country  customer_id  day invoice  month  price stream_id  \\\n",
      "0  United Kingdom          NaN    1  562417      8   8.29     40016   \n",
      "1           Spain      12502.0    1  562273      8   3.95     23012   \n",
      "2  United Kingdom      12971.0    1  562272      8   1.25     21447   \n",
      "3  United Kingdom      12971.0    1  562272      8   2.95     22807   \n",
      "4  United Kingdom      12971.0    1  562272      8   0.85     22156   \n",
      "\n",
      "   times_viewed  year invoice_date  \n",
      "0             1  2019   2019-08-01  \n",
      "1             4  2019   2019-08-01  \n",
      "2             5  2019   2019-08-01  \n",
      "3             6  2019   2019-08-01  \n",
      "4            12  2019   2019-08-01  \n",
      "        date  purchases  unique_invoices  unique_streams  total_views  \\\n",
      "0 2019-08-01       1839               99             905        12229   \n",
      "1 2019-08-02       1455               66             842         7801   \n",
      "2 2019-08-03          0                0               0            0   \n",
      "3 2019-08-04        541               33             409         3232   \n",
      "4 2019-08-05       1490               57             830         7908   \n",
      "\n",
      "  year_month  revenue  \n",
      "0    2019-08  6477.52  \n",
      "1    2019-08  4666.74  \n",
      "2    2019-08     0.00  \n",
      "3    2019-08  1310.75  \n",
      "4    2019-08  8444.06  \n",
      "Number of unique days:  109\n",
      "The dataset spans for  121 days 00:00:00\n",
      "                 customer_id      day    month       price  times_viewed  \\\n",
      "country                                                                    \n",
      "United Kingdom  2.759899e+09  3455741  2308092  931655.782       1173070   \n",
      "France          5.556953e+07    64096    43982   26648.170         36324   \n",
      "Germany         5.431722e+07    58183    42434   18292.630         35894   \n",
      "\n",
      "                     year  \n",
      "country                    \n",
      "United Kingdom  464575938  \n",
      "France            8944170  \n",
      "Germany           8657472  \n",
      "country             0\n",
      "customer_id     53245\n",
      "day                 0\n",
      "invoice             0\n",
      "month               0\n",
      "price               0\n",
      "stream_id           0\n",
      "times_viewed        0\n",
      "year                0\n",
      "invoice_date        0\n",
      "dtype: int64\n"
     ]
    }
   ],
   "source": [
    "# PROD DATA\n",
    "\n",
    "# Fetch data\n",
    "df = fetch_data(\"cs_production\")\n",
    "print(df.head())\n",
    "\n",
    "# Transform data to timeseries dataframe\n",
    "df_ts = convert_to_ts(df)\n",
    "print(df_ts.head())\n",
    "\n",
    "# Save dataframe\n",
    "df_ts.to_csv(\"data/cs_production/ts_prod_data.csv\")\n",
    "\n",
    "# Number of unique days and the dataset span\n",
    "print(\"Number of unique days: \", df.invoice_date.nunique())\n",
    "\n",
    "first_day=df_ts['date'].iloc[0] # first element \n",
    "last_day=df_ts['date'].iloc[-1] # last element \n",
    "total_days = (last_day - first_day)\n",
    "print(\"The dataset spans for \", total_days)\n",
    "\n",
    "# Countries by total revenue\n",
    "df_grouped = df.groupby(\"country\").sum()\n",
    "print(df_grouped.sort_values('price', ascending=False).head(3))\n",
    "\n",
    "# Number of missed values by feature\n",
    "print(df.isna().sum())\n"
   ]
  },
  {
   "cell_type": "code",
   "execution_count": 10,
   "metadata": {},
   "outputs": [
    {
     "name": "stdout",
     "output_type": "stream",
     "text": [
      "2017-11-28 00:00:00 2019-07-31 00:00:00\n"
     ]
    },
    {
     "data": {
      "text/html": [
       "<div>\n",
       "<style scoped>\n",
       "    .dataframe tbody tr th:only-of-type {\n",
       "        vertical-align: middle;\n",
       "    }\n",
       "\n",
       "    .dataframe tbody tr th {\n",
       "        vertical-align: top;\n",
       "    }\n",
       "\n",
       "    .dataframe thead th {\n",
       "        text-align: right;\n",
       "    }\n",
       "</style>\n",
       "<table border=\"1\" class=\"dataframe\">\n",
       "  <thead>\n",
       "    <tr style=\"text-align: right;\">\n",
       "      <th></th>\n",
       "      <th>country</th>\n",
       "      <th>customer_id</th>\n",
       "      <th>day</th>\n",
       "      <th>invoice</th>\n",
       "      <th>month</th>\n",
       "      <th>price</th>\n",
       "      <th>stream_id</th>\n",
       "      <th>times_viewed</th>\n",
       "      <th>year</th>\n",
       "      <th>invoice_date</th>\n",
       "    </tr>\n",
       "  </thead>\n",
       "  <tbody>\n",
       "    <tr>\n",
       "      <th>0</th>\n",
       "      <td>United Kingdom</td>\n",
       "      <td>13085.0</td>\n",
       "      <td>28</td>\n",
       "      <td>489434</td>\n",
       "      <td>11</td>\n",
       "      <td>6.95</td>\n",
       "      <td>85048</td>\n",
       "      <td>12</td>\n",
       "      <td>2017</td>\n",
       "      <td>2017-11-28</td>\n",
       "    </tr>\n",
       "    <tr>\n",
       "      <th>1</th>\n",
       "      <td>United Kingdom</td>\n",
       "      <td>13085.0</td>\n",
       "      <td>28</td>\n",
       "      <td>489434</td>\n",
       "      <td>11</td>\n",
       "      <td>6.75</td>\n",
       "      <td>79323W</td>\n",
       "      <td>12</td>\n",
       "      <td>2017</td>\n",
       "      <td>2017-11-28</td>\n",
       "    </tr>\n",
       "    <tr>\n",
       "      <th>2</th>\n",
       "      <td>United Kingdom</td>\n",
       "      <td>13085.0</td>\n",
       "      <td>28</td>\n",
       "      <td>489434</td>\n",
       "      <td>11</td>\n",
       "      <td>2.10</td>\n",
       "      <td>22041</td>\n",
       "      <td>21</td>\n",
       "      <td>2017</td>\n",
       "      <td>2017-11-28</td>\n",
       "    </tr>\n",
       "    <tr>\n",
       "      <th>3</th>\n",
       "      <td>United Kingdom</td>\n",
       "      <td>13085.0</td>\n",
       "      <td>28</td>\n",
       "      <td>489434</td>\n",
       "      <td>11</td>\n",
       "      <td>1.25</td>\n",
       "      <td>21232</td>\n",
       "      <td>5</td>\n",
       "      <td>2017</td>\n",
       "      <td>2017-11-28</td>\n",
       "    </tr>\n",
       "    <tr>\n",
       "      <th>4</th>\n",
       "      <td>United Kingdom</td>\n",
       "      <td>13085.0</td>\n",
       "      <td>28</td>\n",
       "      <td>489434</td>\n",
       "      <td>11</td>\n",
       "      <td>1.65</td>\n",
       "      <td>22064</td>\n",
       "      <td>17</td>\n",
       "      <td>2017</td>\n",
       "      <td>2017-11-28</td>\n",
       "    </tr>\n",
       "  </tbody>\n",
       "</table>\n",
       "</div>"
      ],
      "text/plain": [
       "          country  customer_id  day invoice  month  price stream_id  \\\n",
       "0  United Kingdom      13085.0   28  489434     11   6.95     85048   \n",
       "1  United Kingdom      13085.0   28  489434     11   6.75    79323W   \n",
       "2  United Kingdom      13085.0   28  489434     11   2.10     22041   \n",
       "3  United Kingdom      13085.0   28  489434     11   1.25     21232   \n",
       "4  United Kingdom      13085.0   28  489434     11   1.65     22064   \n",
       "\n",
       "   times_viewed  year invoice_date  \n",
       "0            12  2017   2017-11-28  \n",
       "1            12  2017   2017-11-28  \n",
       "2            21  2017   2017-11-28  \n",
       "3             5  2017   2017-11-28  \n",
       "4            17  2017   2017-11-28  "
      ]
     },
     "execution_count": 10,
     "metadata": {},
     "output_type": "execute_result"
    }
   ],
   "source": [
    "print(df.invoice_date.min(),df.invoice_date.max())\n",
    "df.head()"
   ]
  },
  {
   "cell_type": "code",
   "execution_count": 22,
   "metadata": {},
   "outputs": [],
   "source": [
    "df_ts['Year'] = pd.to_datetime(df_ts['date']).dt.year\n",
    "df_ts['Month'] = pd.to_datetime(df_ts['date']).dt.month\n",
    "df_ts['Week'] = pd.to_datetime(df_ts['date']).dt.week\n",
    "df_ts['DayOfTheWeek'] = df_ts['date'].dt.dayofweek\n",
    "df_ts['Day'] = pd.to_datetime(df_ts['date']).dt.day"
   ]
  },
  {
   "cell_type": "code",
   "execution_count": 26,
   "metadata": {},
   "outputs": [
    {
     "data": {
      "image/png": "[encoded data removed]",
      "text/plain": [
       "<Figure size 1152x576 with 1 Axes>"
      ]
     },
     "metadata": {
      "needs_background": "light"
     },
     "output_type": "display_data"
    },
    {
     "data": {
      "image/png": "[encoded data removed]",
      "text/plain": [
       "<Figure size 1152x576 with 1 Axes>"
      ]
     },
     "metadata": {
      "needs_background": "light"
     },
     "output_type": "display_data"
    }
   ],
   "source": [
    "def box_plot_dist_var(var):\n",
    "#     var = 'DayOfTheWeek'\n",
    "    data_ = pd.concat([df_ts['revenue'], df_ts[var]], axis=1)\n",
    "    f, ax = plt.subplots(figsize=(16, 8))\n",
    "    fig = sns.boxplot(x=var, y=\"revenue\", data=data_)\n",
    "    plt.xticks(rotation=90);\n",
    "\n",
    "box_plot_dist_var(\"DayOfTheWeek\")        \n",
    "box_plot_dist_var(\"Day\")  "
   ]
  },
  {
   "cell_type": "code",
   "execution_count": 28,
   "metadata": {},
   "outputs": [
    {
     "data": {
      "image/png": "[encoded data removed]",
      "text/plain": [
       "<Figure size 720x360 with 1 Axes>"
      ]
     },
     "metadata": {
      "needs_background": "light"
     },
     "output_type": "display_data"
    }
   ],
   "source": [
    "#Monthly growth\n",
    "gouped_monthly = df_ts.groupby('Month')['revenue'].mean().T\n",
    "# gouped_monthly\n",
    "gouped_monthly.plot(kind='bar',title='Total Average Sales by Month',figsize=(10,5))\n",
    "plt.legend(loc='best')\n",
    "plt.show()"
   ]
  },
  {
   "cell_type": "markdown",
   "metadata": {},
   "source": [
    "# End notebook"
   ]
  }
 ],
 "metadata": {
  "kernelspec": {
   "display_name": "Python 3",
   "language": "python",
   "name": "python3"
  },
  "language_info": {
   "codemirror_mode": {
    "name": "ipython",
    "version": 3
   },
   "file_extension": ".py",
   "mimetype": "text/x-python",
   "name": "python",
   "nbconvert_exporter": "python",
   "pygments_lexer": "ipython3",
   "version": "3.7.1"
  }
 },
 "nbformat": 4,
 "nbformat_minor": 4
}
